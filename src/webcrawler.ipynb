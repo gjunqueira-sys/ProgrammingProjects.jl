{
 "cells": [
  {
   "cell_type": "markdown",
   "metadata": {},
   "source": [
    "# Making requests with the HTTP package\n",
    "Pkg, Julia's built-in package manager, provides access to the excellent HTTP package. It exposes a powerful functionality for building web clients and servers—and we'll use it extensively.\n",
    "\n",
    "As you're already accustomed to, extra functionality is only two commands away—pkg> add HTTP and julia> using HTTP.\n",
    "\n",
    "Recall our discussion about HTTP methods from the previous section; the most important ones were GET, used to ask for a resource from the server, and POST, which sends a data payload to the server and accepts the response. The HTTP package exposes a matching set of functions—we get access to HTTP.get, HTTP.post, HTTP.delete, HTTP.put, and so on.\n",
    "\n",
    "Let's say we want to request Julia's Wikipedia page. All we need is the page's URL and the HTTP.get method:"
   ]
  },
  {
   "cell_type": "code",
   "execution_count": 10,
   "metadata": {},
   "outputs": [],
   "source": [
    "using HTTP\n",
    "resp = HTTP.get(\"https://en.wikipedia.org/wiki/Julia_(programming_language)\") ;"
   ]
  },
  {
   "cell_type": "markdown",
   "metadata": {},
   "source": [
    "The result will be a Response object that represents Julia's Wikipedia page in all its glory. "
   ]
  },
  {
   "cell_type": "code",
   "execution_count": 11,
   "metadata": {},
   "outputs": [
    {
     "data": {
      "text/plain": [
       "HTTP.Messages.Response:\n",
       "\"\"\"\n",
       "HTTP/1.1 200 OK\r\n",
       "Date: Sat, 18 Dec 2021 03:37:30 GMT\r\n",
       "Vary: Accept-Encoding,Cookie,Authorization\r\n",
       "Server: ATS/8.0.8\r\n",
       "X-Content-Type-Options: nosniff\r\n",
       "P3p: CP=\"See https://en.wikipedia.org/wiki/Special:CentralAutoLogin/P3P for more info.\"\r\n",
       "Content-Language: en\r\n",
       "Last-Modified: Wed, 15 Dec 2021 14:38:35 GMT\r\n",
       "Content-Type: text/html; charset=UTF-8\r\n",
       "Age: 38729\r\n",
       "X-Cache: cp2037 hit, cp2037 hit/3\r\n",
       "X-Cache-Status: hit-front\r\n",
       "Server-Timing: cache;desc=\"hit-front\", host;desc=\"cp2037\"\r\n",
       "Strict-Transport-Security: max-age=106384710; includeSubDomains; preload\r\n",
       "Report-To: { \"group\": \"wm_nel\", \"max_age\": 86400, \"endpoints\": [{ \"url\": \"https://intake-logging.wikimedia.org/v1/events?stream=w3c.reportingapi.network_error&schema_uri=/w3c/reportingapi/network_error/1.0.0\" }] }\r\n",
       "NEL: { \"report_to\": \"wm_nel\", \"max_age\": 86400, \"failure_fraction\": 0.05, \"success_fraction\": 0.0}\r\n",
       "Permissions-Policy: interest-cohort=()\r\n",
       "Set-Cookie: WMF-Last-Access=18-Dec-2021;Path=/;HttpOnly;secure;Expires=Wed, 19 Jan 2022 12:00:00 GMT\r\n",
       "Set-Cookie: WMF-Last-Access-Global=18-Dec-2021;Path=/;Domain=.wikipedia.org;HttpOnly;secure;Expires=Wed, 19 Jan 2022 12:00:00 GMT\r\n",
       "X-Client-IP: 2603:8080:20c:2b94:89ce:fb11:578b:eab3\r\n",
       "Cache-Control: private, s-maxage=0, max-age=0, must-revalidate\r\n",
       "Set-Cookie: GeoIP=US:TX:Allen:33.09:-96.65:v4; Path=/; secure; Domain=.wikipedia.org\r\n",
       "Accept-Ranges: bytes\r\n",
       "Content-Length: 352982\r\n",
       "Connection: keep-alive\r\n",
       "\r\n",
       "<!DOCTYPE html>\n",
       "<html class=\"client-nojs\" lang=\"en\" dir=\"ltr\">\n",
       "<head>\n",
       "<meta charset=\"UTF-8\"/>\n",
       "<title>Julia (programming language) - Wikipedia</title>\n",
       "<script>document.documentElement.className=\"client-js\";RLCONF={\"wgBreakFrames\":false,\"wgSeparatorTransformTable\":[\"\",\"\"],\"wgDigitTransformTable\":[\"\",\"\"],\"wgDefaultDateFormat\":\"dmy\",\"wgMonthNames\":[\"\",\"January\",\"February\",\"March\",\"April\",\"May\",\"June\",\"July\",\"August\",\"September\",\"October\",\"November\",\"December\"],\"wgRequestId\":\"3dbfaf3d-4ab8-4294-bb06-9e95b5a775d0\",\"wgCSPNonce\":false,\"wgCanonicalNamespace\":\"\",\"wgCanonicalSpecialPageName\":false,\"wgNamespaceNumber\":0,\"wgPageName\":\"Julia_(programming_language)\",\"wgTitle\":\"Julia (programming language)\",\"wgCurRevisionId\":1060439771,\"wgRevisionId\":1060439771,\"wgArticleId\":38455554,\"wgIsArticle\":true,\"wgIsRedirect\":false,\"wgAction\":\"view\",\"wgUserName\":null,\"wgUserGroups\":[\"*\"],\"wgCategories\":[\"CS1 maint: uses authors parameter\",\"CS1 maint: numeric names: authors list\",\"Articles with short descriptio\n",
       "⋮\n",
       "352982-byte body\n",
       "\"\"\""
      ]
     },
     "metadata": {},
     "output_type": "display_data"
    }
   ],
   "source": [
    "resp"
   ]
  },
  {
   "cell_type": "markdown",
   "metadata": {},
   "source": [
    "# Handling HTTP responses\n",
    "After receiving and processing a request, the server sends back a HTTP response message. These messages have a standardized structure. They contain a wealth of information, with the most important pieces being the status code, the headers, and the body."
   ]
  },
  {
   "cell_type": "markdown",
   "metadata": {},
   "source": [
    "# HTTP status codes\n",
    "The status code is a three-digit integer where the first digit represents the category, while the next two digits are used to define the subcategory. They are as follows:\n",
    "\n",
    "- 1XX - Informational: Request was received. This indicates a provisional response.\n",
    "- 2XX - Success: This is the most important response status, acknowledging that the request was successfully received, understood, and accepted. It's what we're looking for in our web-mining scripts.\n",
    "- 3XX - Redirection: This class of status codes indicates that the client must take additional action. It usually means that additional requests must be made in order to get to the resource, so our scripts will have to handle this scenario. We also need to actively prevent cyclical redirects. We won't deal with such complex scenarios in our project, but in real-life applications, 3XX status codes will require specialized handling based on the subcategory.\n",
    "Wikipedia provides a good description of the various 3XX status codes and instructions for what to do in each case: https://en.wikipedia.org/wiki/List_of_HTTP_status_codes#3xx_Redirection.\n",
    "- 4XX - Client Error: This means that we've probably made a mistake when sending our request. Maybe the URL is wrong and the resource cannot be found (404) or maybe we're not allowed to access the page (401 and 403 status codes). There's a long list of 4XX response codes and, similar to 3XX ones, our program should handle the various scenarios to ensure that the requests are eventually successful.\n",
    "- 5XX - Server Error: Congratulations, you found or caused a problem on the server! Depending on the actual status code, this may or may not be actionable. 503 (service unavailable) or 504 (gateway timeout) are relevant as they indicate that we should try again later."
   ]
  },
  {
   "cell_type": "markdown",
   "metadata": {},
   "source": [
    "# The HTTP message body\n",
    "The message body, the most important part and the reason for web scraping (the content of the web page itself), is actually an optional part of the response. The presence of the body, its properties, and its size are specified by the Content-* family of headers."
   ]
  },
  {
   "cell_type": "markdown",
   "metadata": {},
   "source": [
    "# Understanding HTTP responses\n",
    "The result of the HTTP.get invocation is an object that closely mirrors a raw HTTP response. The package makes our lives easier by extracting the raw HTTP data and neatly setting it up in a data structure, which makes manipulating it a breeze.\n",
    "\n",
    "Let's take a look at its properties (or fields in Julia's lingo):"
   ]
  },
  {
   "cell_type": "code",
   "execution_count": 12,
   "metadata": {},
   "outputs": [
    {
     "data": {
      "text/plain": [
       "(:version, :status, :headers, :body, :request)"
      ]
     },
     "metadata": {},
     "output_type": "display_data"
    }
   ],
   "source": [
    "fieldnames(typeof(resp))"
   ]
  },
  {
   "cell_type": "markdown",
   "metadata": {},
   "source": [
    "The fieldnames function accepts a type as its argument and returns a tuple containing the names of the fields (or properties) of the argument. In order to get the type of a value, we can use the typeof function, like in the previous example.\n",
    "\n",
    "Right! The status, headers, and body fields should by now sound familiar. The version field represents the version of the HTTP protocol (the HTTP/1.1 part in the first line of the response). Most web servers on the internet today use version 1.1 of the protocol, but a new major version, 2.0, is almost ready for wide deployment. Finally, the request field holds a reference to the HTTP.Messages.Request object that triggered the current response."
   ]
  },
  {
   "cell_type": "markdown",
   "metadata": {},
   "source": [
    "# The status code\n",
    "Let's take a closer look at the status code:"
   ]
  },
  {
   "cell_type": "code",
   "execution_count": 13,
   "metadata": {},
   "outputs": [
    {
     "data": {
      "text/plain": [
       "200"
      ]
     },
     "metadata": {},
     "output_type": "display_data"
    }
   ],
   "source": [
    "resp.status"
   ]
  },
  {
   "cell_type": "markdown",
   "metadata": {},
   "source": [
    "# The headers\n",
    "What about the headers? As already mentioned, they contain critical information indicating whether a message body is present. Let's check them out:"
   ]
  },
  {
   "cell_type": "code",
   "execution_count": 14,
   "metadata": {},
   "outputs": [
    {
     "data": {
      "text/plain": [
       "24-element Vector{Pair{SubString{String}, SubString{String}}}:\n",
       "                   \"Date\" => \"Sat, 18 Dec 2021 03:37:30 GMT\"\n",
       "                   \"Vary\" => \"Accept-Encoding,Cookie,Authorization\"\n",
       "                 \"Server\" => \"ATS/8.0.8\"\n",
       " \"X-Content-Type-Options\" => \"nosniff\"\n",
       "                    \"P3p\" => \"CP=\\\"See https://en.wikipedia.org/wiki/Special:CentralAutoLogin/P3P for more info.\\\"\"\n",
       "       \"Content-Language\" => \"en\"\n",
       "          \"Last-Modified\" => \"Wed, 15 Dec 2021 14:38:35 GMT\"\n",
       "           \"Content-Type\" => \"text/html; charset=UTF-8\"\n",
       "                    \"Age\" => \"38729\"\n",
       "                \"X-Cache\" => \"cp2037 hit, cp2037 hit/3\"\n",
       "                          ⋮\n",
       "     \"Permissions-Policy\" => \"interest-cohort=()\"\n",
       "             \"Set-Cookie\" => \"WMF-Last-Access=18-Dec-2021;Path=/;HttpOnly;secure;Expires=Wed, 19 Jan 2022 12:00:00 GMT\"\n",
       "             \"Set-Cookie\" => \"WMF-Last-Access-Global=18-Dec-2021;Path=/;Domain=.wikipedia.org;HttpOnly;secure;Expires=Wed, 19 Jan 2022 12:00:00 GMT\"\n",
       "            \"X-Client-IP\" => \"2603:8080:20c:2b94:89ce:fb11:578b:eab3\"\n",
       "          \"Cache-Control\" => \"private, s-maxage=0, max-age=0, must-revalidate\"\n",
       "             \"Set-Cookie\" => \"GeoIP=US:TX:Allen:33.09:-96.65:v4; Path=/; secure; Domain=.wikipedia.org\"\n",
       "          \"Accept-Ranges\" => \"bytes\"\n",
       "         \"Content-Length\" => \"352982\"\n",
       "             \"Connection\" => \"keep-alive\""
      ]
     },
     "metadata": {},
     "output_type": "display_data"
    }
   ],
   "source": [
    "resp.headers"
   ]
  },
  {
   "cell_type": "markdown",
   "metadata": {},
   "source": [
    "# The message body\n",
    "Since we just confirmed that we have a response body, let's see it:"
   ]
  },
  {
   "cell_type": "code",
   "execution_count": 15,
   "metadata": {},
   "outputs": [
    {
     "data": {
      "text/plain": [
       "352982-element Vector{UInt8}:\n",
       " 0x3c\n",
       " 0x21\n",
       " 0x44\n",
       " 0x4f\n",
       " 0x43\n",
       " 0x54\n",
       " 0x59\n",
       " 0x50\n",
       " 0x45\n",
       " 0x20\n",
       "    ⋮\n",
       " 0x3e\n",
       " 0x0a\n",
       " 0x3c\n",
       " 0x2f\n",
       " 0x68\n",
       " 0x74\n",
       " 0x6d\n",
       " 0x6c\n",
       " 0x3e"
      ]
     },
     "metadata": {},
     "output_type": "display_data"
    }
   ],
   "source": [
    "resp.body"
   ]
  },
  {
   "cell_type": "markdown",
   "metadata": {},
   "source": [
    "Oops, that doesn't look like the web page we were expecting. No worries though, these are the bytes of the raw response—which we can easily convert to a human-readable HTML string. Remember that I mentioned the String method when learning about strings? Well, this is where it comes in handy:"
   ]
  },
  {
   "cell_type": "code",
   "execution_count": 16,
   "metadata": {},
   "outputs": [
    {
     "data": {
      "text/plain": [
       "\"<!DOCTYPE html>\\n<html class=\\\"client-nojs\\\" lang=\\\"en\\\" dir=\\\"ltr\\\">\\n<head>\\n<meta charset=\\\"UTF-8\\\"/>\\n<title>Julia (programming language) - Wikipedia</title>\\n<script>document.documentElement.className=\\\"client-js\\\";RLCONF={\\\"wgBreakFrames\\\":false,\\\"wgSeparatorTransformTable\\\":[\\\"\\\",\\\"\\\"\" ⋯ 352444 bytes ⋯ \"pedia\\\\/commons\\\\/1\\\\/1f\\\\/Julia_Programming_Language_Logo.svg\\\",\\\"headline\\\":\\\"high-performance dynamic programming language\\\"}</script>\\n<script>(RLQ=window.RLQ||[]).push(function(){mw.config.set({\\\"wgBackendResponseTime\\\":202,\\\"wgHostname\\\":\\\"mw1327\\\"});});</script>\\n</body>\\n</html>\""
      ]
     },
     "metadata": {},
     "output_type": "display_data"
    }
   ],
   "source": [
    "resp_body = String(resp.body)"
   ]
  },
  {
   "cell_type": "markdown",
   "metadata": {},
   "source": [
    "## Learning about pairs\n",
    "While looking at the response header, you might've noticed that its type is an Array of Pair objects:"
   ]
  },
  {
   "cell_type": "code",
   "execution_count": 17,
   "metadata": {},
   "outputs": [
    {
     "data": {
      "text/plain": [
       "24-element Vector{Pair{SubString{String}, SubString{String}}}:\n",
       "                   \"Date\" => \"Sat, 18 Dec 2021 03:37:30 GMT\"\n",
       "                   \"Vary\" => \"Accept-Encoding,Cookie,Authorization\"\n",
       "                 \"Server\" => \"ATS/8.0.8\"\n",
       " \"X-Content-Type-Options\" => \"nosniff\"\n",
       "                    \"P3p\" => \"CP=\\\"See https://en.wikipedia.org/wiki/Special:CentralAutoLogin/P3P for more info.\\\"\"\n",
       "       \"Content-Language\" => \"en\"\n",
       "          \"Last-Modified\" => \"Wed, 15 Dec 2021 14:38:35 GMT\"\n",
       "           \"Content-Type\" => \"text/html; charset=UTF-8\"\n",
       "                    \"Age\" => \"38729\"\n",
       "                \"X-Cache\" => \"cp2037 hit, cp2037 hit/3\"\n",
       "                          ⋮\n",
       "     \"Permissions-Policy\" => \"interest-cohort=()\"\n",
       "             \"Set-Cookie\" => \"WMF-Last-Access=18-Dec-2021;Path=/;HttpOnly;secure;Expires=Wed, 19 Jan 2022 12:00:00 GMT\"\n",
       "             \"Set-Cookie\" => \"WMF-Last-Access-Global=18-Dec-2021;Path=/;Domain=.wikipedia.org;HttpOnly;secure;Expires=Wed, 19 Jan 2022 12:00:00 GMT\"\n",
       "            \"X-Client-IP\" => \"2603:8080:20c:2b94:89ce:fb11:578b:eab3\"\n",
       "          \"Cache-Control\" => \"private, s-maxage=0, max-age=0, must-revalidate\"\n",
       "             \"Set-Cookie\" => \"GeoIP=US:TX:Allen:33.09:-96.65:v4; Path=/; secure; Domain=.wikipedia.org\"\n",
       "          \"Accept-Ranges\" => \"bytes\"\n",
       "         \"Content-Length\" => \"352982\"\n",
       "             \"Connection\" => \"keep-alive\""
      ]
     },
     "metadata": {},
     "output_type": "display_data"
    }
   ],
   "source": [
    "resp.headers"
   ]
  },
  {
   "cell_type": "markdown",
   "metadata": {},
   "source": [
    "A Pair represents a Julia data structure—and the corresponding type. The Pair contains a couple of values that are generally used to reference key-value relationships. The types of the two elements determine the concrete type of the Pair.\n",
    "\n",
    "For example, we can construct a Pair with the following:"
   ]
  },
  {
   "cell_type": "code",
   "execution_count": 19,
   "metadata": {},
   "outputs": [
    {
     "data": {
      "text/plain": [
       ":foo => \"bar\""
      ]
     },
     "metadata": {},
     "output_type": "display_data"
    }
   ],
   "source": [
    "Pair(:foo, \"bar\") "
   ]
  },
  {
   "cell_type": "code",
   "execution_count": 20,
   "metadata": {},
   "outputs": [
    {
     "data": {
      "text/plain": [
       "Pair{Symbol, String}"
      ]
     },
     "metadata": {},
     "output_type": "display_data"
    }
   ],
   "source": [
    "typeof(Pair(:foo, \"bar\")) "
   ]
  },
  {
   "cell_type": "markdown",
   "metadata": {},
   "source": [
    "We can also create Pairs by using the x => y literal notation:"
   ]
  },
  {
   "cell_type": "markdown",
   "metadata": {},
   "source": [
    "3 => \"c\""
   ]
  },
  {
   "cell_type": "code",
   "execution_count": 21,
   "metadata": {},
   "outputs": [
    {
     "data": {
      "text/plain": [
       "Pair{Int64, String}"
      ]
     },
     "metadata": {},
     "output_type": "display_data"
    }
   ],
   "source": [
    "typeof(3 => \"c\")"
   ]
  },
  {
   "cell_type": "markdown",
   "metadata": {},
   "source": [
    "Obviously, once created, it is possible to access the values stored in a Pair. One way to do it is by indexing into it:"
   ]
  },
  {
   "cell_type": "code",
   "execution_count": 22,
   "metadata": {},
   "outputs": [
    {
     "data": {
      "text/plain": [
       "3 => \"c\""
      ]
     },
     "metadata": {},
     "output_type": "display_data"
    }
   ],
   "source": [
    "p = 3 => \"c\""
   ]
  },
  {
   "cell_type": "code",
   "execution_count": 23,
   "metadata": {},
   "outputs": [
    {
     "data": {
      "text/plain": [
       "3"
      ]
     },
     "metadata": {},
     "output_type": "display_data"
    }
   ],
   "source": [
    "p[1]"
   ]
  },
  {
   "cell_type": "code",
   "execution_count": 24,
   "metadata": {},
   "outputs": [
    {
     "data": {
      "text/plain": [
       "\"c\""
      ]
     },
     "metadata": {},
     "output_type": "display_data"
    }
   ],
   "source": [
    "p[2]"
   ]
  },
  {
   "cell_type": "markdown",
   "metadata": {},
   "source": [
    "We can also access the first and second fields in order to get to the first and second values, respectively:"
   ]
  },
  {
   "cell_type": "code",
   "execution_count": 25,
   "metadata": {},
   "outputs": [
    {
     "data": {
      "text/plain": [
       "3"
      ]
     },
     "metadata": {},
     "output_type": "display_data"
    }
   ],
   "source": [
    "p.first"
   ]
  },
  {
   "cell_type": "code",
   "execution_count": 26,
   "metadata": {},
   "outputs": [
    {
     "data": {
      "text/plain": [
       "\"c\""
      ]
     },
     "metadata": {},
     "output_type": "display_data"
    }
   ],
   "source": [
    "p.second"
   ]
  },
  {
   "cell_type": "markdown",
   "metadata": {},
   "source": [
    "Pairs are one of the building blocks of Julia and can be used, among other things, for creating dictionaries, one of the most important types and data structures."
   ]
  },
  {
   "cell_type": "code",
   "execution_count": 29,
   "metadata": {},
   "outputs": [
    {
     "data": {
      "text/plain": [
       "Dict{Int64, String} with 1 entry:\n",
       "  3 => \"c\""
      ]
     },
     "metadata": {},
     "output_type": "display_data"
    }
   ],
   "source": [
    "dic = Dict(p)"
   ]
  },
  {
   "cell_type": "markdown",
   "metadata": {},
   "source": [
    "# Using the HTTP response\n",
    "Armed with a good understanding of Julia's dictionary data structure, we can now take a closer look at the headers property of resp, our HTTP response object.\n",
    "\n",
    "To make it easier to access the various headers, first let's convert the array of Pair to a Dict:"
   ]
  },
  {
   "cell_type": "code",
   "execution_count": 30,
   "metadata": {},
   "outputs": [
    {
     "data": {
      "text/plain": [
       "Dict{SubString{String}, SubString{String}} with 22 entries:\n",
       "  \"Connection\"                => \"keep-alive\"\n",
       "  \"Date\"                      => \"Sat, 18 Dec 2021 03:37:30 GMT\"\n",
       "  \"Age\"                       => \"38729\"\n",
       "  \"Accept-Ranges\"             => \"bytes\"\n",
       "  \"P3p\"                       => \"CP=\\\"See https://en.wikipedia.org/wiki/Specia…\n",
       "  \"Cache-Control\"             => \"private, s-maxage=0, max-age=0, must-revalida…\n",
       "  \"X-Cache-Status\"            => \"hit-front\"\n",
       "  \"Server\"                    => \"ATS/8.0.8\"\n",
       "  \"Content-Length\"            => \"352982\"\n",
       "  \"Server-Timing\"             => \"cache;desc=\\\"hit-front\\\", host;desc=\\\"cp2037\\…\n",
       "  \"Last-Modified\"             => \"Wed, 15 Dec 2021 14:38:35 GMT\"\n",
       "  \"NEL\"                       => \"{ \\\"report_to\\\": \\\"wm_nel\\\", \\\"max_age\\\": 864…\n",
       "  \"X-Content-Type-Options\"    => \"nosniff\"\n",
       "  \"Permissions-Policy\"        => \"interest-cohort=()\"\n",
       "  \"Vary\"                      => \"Accept-Encoding,Cookie,Authorization\"\n",
       "  \"X-Cache\"                   => \"cp2037 hit, cp2037 hit/3\"\n",
       "  \"Strict-Transport-Security\" => \"max-age=106384710; includeSubDomains; preload\"\n",
       "  \"Set-Cookie\"                => \"GeoIP=US:TX:Allen:33.09:-96.65:v4; Path=/; se…\n",
       "  \"X-Client-IP\"               => \"2603:8080:20c:2b94:89ce:fb11:578b:eab3\"\n",
       "  ⋮                           => ⋮"
      ]
     },
     "metadata": {},
     "output_type": "display_data"
    }
   ],
   "source": [
    "headers = Dict(resp.headers)"
   ]
  },
  {
   "cell_type": "markdown",
   "metadata": {},
   "source": [
    "We can check the Content-Length value to determine whether or not we have a response body. If it's larger than 0, that means we got back a HTML message:"
   ]
  },
  {
   "cell_type": "code",
   "execution_count": 32,
   "metadata": {},
   "outputs": [
    {
     "data": {
      "text/plain": [
       "\"352982\""
      ]
     },
     "metadata": {},
     "output_type": "display_data"
    }
   ],
   "source": [
    "headers[\"Content-Length\"]"
   ]
  },
  {
   "cell_type": "markdown",
   "metadata": {},
   "source": [
    "t's important to remember that all the values in the headers dictionary are strings, so we can't go comparing them straight away:"
   ]
  },
  {
   "cell_type": "code",
   "execution_count": 33,
   "metadata": {},
   "outputs": [
    {
     "ename": "MethodError",
     "evalue": "MethodError: no method matching isless(::Int64, ::SubString{String})\nClosest candidates are:\n  isless(!Matched::AbstractString, ::AbstractString) at C:\\Users\\gilju\\AppData\\Local\\Programs\\Julia-1.7.0\\share\\julia\\base\\strings\\basic.jl:344\n  isless(::Real, !Matched::AbstractFloat) at C:\\Users\\gilju\\AppData\\Local\\Programs\\Julia-1.7.0\\share\\julia\\base\\operators.jl:185\n  isless(::Real, !Matched::Real) at C:\\Users\\gilju\\AppData\\Local\\Programs\\Julia-1.7.0\\share\\julia\\base\\operators.jl:430\n  ...",
     "output_type": "error",
     "traceback": [
      "MethodError: no method matching isless(::Int64, ::SubString{String})\n",
      "Closest candidates are:\n",
      "  isless(!Matched::AbstractString, ::AbstractString) at C:\\Users\\gilju\\AppData\\Local\\Programs\\Julia-1.7.0\\share\\julia\\base\\strings\\basic.jl:344\n",
      "  isless(::Real, !Matched::AbstractFloat) at C:\\Users\\gilju\\AppData\\Local\\Programs\\Julia-1.7.0\\share\\julia\\base\\operators.jl:185\n",
      "  isless(::Real, !Matched::Real) at C:\\Users\\gilju\\AppData\\Local\\Programs\\Julia-1.7.0\\share\\julia\\base\\operators.jl:430\n",
      "  ...\n",
      "\n",
      "Stacktrace:\n",
      "  [1] <(x::Int64, y::SubString{String})\n",
      "    @ Base .\\operators.jl:352\n",
      "  [2] >(x::SubString{String}, y::Int64)\n",
      "    @ Base .\\operators.jl:378\n",
      "  [3] top-level scope\n",
      "    @ c:\\Users\\gilju\\OneDrive\\Documents\\Dev\\Projects\\ProgrammingProjects.jl\\src\\webcrawler.ipynb:1\n",
      "  [4] eval\n",
      "    @ .\\boot.jl:373 [inlined]\n",
      "  [5] include_string(mapexpr::typeof(REPL.softscope), mod::Module, code::String, filename::String)\n",
      "    @ Base .\\loading.jl:1196\n",
      "  [6] #invokelatest#2\n",
      "    @ .\\essentials.jl:716 [inlined]\n",
      "  [7] invokelatest\n",
      "    @ .\\essentials.jl:714 [inlined]\n",
      "  [8] (::VSCodeServer.var\"#150#151\"{VSCodeServer.NotebookRunCellArguments, String})()\n",
      "    @ VSCodeServer c:\\Users\\gilju\\.vscode\\extensions\\julialang.language-julia-1.5.6\\scripts\\packages\\VSCodeServer\\src\\serve_notebook.jl:18\n",
      "  [9] withpath(f::VSCodeServer.var\"#150#151\"{VSCodeServer.NotebookRunCellArguments, String}, path::String)\n",
      "    @ VSCodeServer c:\\Users\\gilju\\.vscode\\extensions\\julialang.language-julia-1.5.6\\scripts\\packages\\VSCodeServer\\src\\repl.jl:185\n",
      " [10] notebook_runcell_request(conn::VSCodeServer.JSONRPC.JSONRPCEndpoint{Base.PipeEndpoint, Base.PipeEndpoint}, params::VSCodeServer.NotebookRunCellArguments)\n",
      "    @ VSCodeServer c:\\Users\\gilju\\.vscode\\extensions\\julialang.language-julia-1.5.6\\scripts\\packages\\VSCodeServer\\src\\serve_notebook.jl:14\n",
      " [11] dispatch_msg(x::VSCodeServer.JSONRPC.JSONRPCEndpoint{Base.PipeEndpoint, Base.PipeEndpoint}, dispatcher::VSCodeServer.JSONRPC.MsgDispatcher, msg::Dict{String, Any})\n",
      "    @ VSCodeServer.JSONRPC c:\\Users\\gilju\\.vscode\\extensions\\julialang.language-julia-1.5.6\\scripts\\packages\\JSONRPC\\src\\typed.jl:67\n",
      " [12] serve_notebook(pipename::String; crashreporting_pipename::String)\n",
      "    @ VSCodeServer c:\\Users\\gilju\\.vscode\\extensions\\julialang.language-julia-1.5.6\\scripts\\packages\\VSCodeServer\\src\\serve_notebook.jl:94\n",
      " [13] top-level scope\n",
      "    @ c:\\Users\\gilju\\.vscode\\extensions\\julialang.language-julia-1.5.6\\scripts\\notebook\\notebook.jl:12\n",
      " [14] include(mod::Module, _path::String)\n",
      "    @ Base .\\Base.jl:418\n",
      " [15] exec_options(opts::Base.JLOptions)\n",
      "    @ Base .\\client.jl:292\n",
      " [16] _start()\n",
      "    @ Base .\\client.jl:495"
     ]
    }
   ],
   "source": [
    "headers[\"Content-Length\"] > 0 "
   ]
  },
  {
   "cell_type": "code",
   "execution_count": 34,
   "metadata": {},
   "outputs": [
    {
     "data": {
      "text/plain": [
       "true"
      ]
     },
     "metadata": {},
     "output_type": "display_data"
    }
   ],
   "source": [
    "parse(Int, headers[\"Content-Length\"]) > 0 "
   ]
  },
  {
   "cell_type": "markdown",
   "metadata": {},
   "source": [
    "# Manipulating the response body\n",
    "Earlier, we read the response body into a String and stored it into the resp_body variable. It's a long HTML string and, in theory, we could use Regex and other string-processing functions to find and extract the data that we need. However, such an approach would be extremely complicated and error-prone. The best way to search for content in a HTML document is via HTML and CSS selectors. The only problem is that these selectors don't operate on strings—they only work against a Document Object Model (DOM)."
   ]
  },
  {
   "cell_type": "markdown",
   "metadata": {},
   "source": [
    "# Building a DOM representation of the page\n",
    "The DOM represents an in-memory structure of an HTML document. It is a data structure that allows us to programmatically manipulate the underlying HTML elements. The DOM represents a document as a logical tree, and we can use selectors to traverse and query this hierarchy."
   ]
  },
  {
   "cell_type": "markdown",
   "metadata": {},
   "source": [
    "# Parsing HTML with Gumbo\n",
    "Julia's Pkg ecosystem provides access to Gumbo, a HTML parser library. Provided with a HTML string, Gumbo will parse it into a document and its corresponding DOM."
   ]
  },
  {
   "cell_type": "code",
   "execution_count": 35,
   "metadata": {},
   "outputs": [],
   "source": [
    "using Gumbo"
   ]
  },
  {
   "cell_type": "code",
   "execution_count": 36,
   "metadata": {},
   "outputs": [
    {
     "data": {
      "text/plain": [
       "HTML Document:\n",
       "<!DOCTYPE html>\n",
       "HTMLElement{:HTML}:<HTML class=\"client-nojs\" dir=\"ltr\" lang=\"en\">\n",
       "  <head>\n",
       "    <meta charset=\"UTF-8\"/>\n",
       "    <title>\n",
       "      Julia (programming language) - Wikipedia\n",
       "    </title>\n",
       "    <script>document.documentElement.className=\"client-js\";RLCONF={\"wgBreakFrames\":false,\"wgSeparatorTransformTable\":[\"\",\"\"],\"wgDigitTransformTable\":[\"\",\"\"],\"wgDefaultDateFormat\":\"dmy\",\"wgMonthNames\":[\"\",\"January\",\"February\",\"March\",\"April\",\"May\",\"June\",\"July\",\"August\",\"September\",\"October\",\"November\",\"December\"],\"wgRequestId\":\"3dbfaf3d-4ab8-4294-bb06-9e95b5a775d0\",\"wgCSPNonce\":false,\"wgCanonicalNamespace\":\"\",\"wgCanonicalSpecialPageName\":false,\"wgNamespaceNumber\":0,\"wgPageName\":\"Julia_(programming_language)\",\"wgTitle\":\"Julia (programming language)\",\"wgCurRevisionId\":1060439771,\"wgRevisionId\":1060439771,\"wgArticleId\":38455554,\"wgIsArticle\":true,\"wgIsRedirect\":false,\"wgAction\":\"view\",\"wgUserName\":null,\"wgUserGroups\":[\"*\"],\"wgCategories\":[\"CS1 maint: uses authors parameter\",\"CS1 maint: numeric names: authors list\",\"Articles with short description\",\"Short description matches Wikidata\",\"Use dmy dates from October 2015\",\"Official website different in Wikidata and Wikipedia\",\n",
       "\"Wikipedia articles needing clarification from July 2020\",\"Articles containing potentially dated statements from July 2021\",\"All articles containing potentially dated statements\",\"All articles with unsourced statements\",\"Articles with unsourced statements from March 2021\",\"Articles with LCCN identifiers\",\"Articles with FAST identifiers\",\"Articles with example Julia code\",\"2012 software\",\"Array programming languages\",\"Computational notebook\",\"Cross-platform software\",\"Data mining and machine learning software\",\"Data-centric programming languages\",\"Dynamically typed programming languages\",\"Free compilers and interpreters\",\"Free computer libraries\",\"Free data analysis software\",\"Free data visualization software\",\"Free software programmed in C\",\"Free software programmed in Julia\",\"Free software projects\",\"Free statistical software\",\"Functional languages\",\"High-level programming languages\",\"Homoiconic programming languages\",\"Lisp programming language family\",\n",
       "\"Multi-paradigm programming languages\",\"Numerical analysis software for Linux\",\"Numerical analysis software for MacOS\",\"Numerical analysis software for Windows\",\"Numerical libraries\",\"Numerical linear algebra\",\"Numerical programming languages\",\"Object-oriented programming languages\",\"Parallel computing\",\"Procedural programming languages\",\"Programming languages\",\"Programming languages created in 2012\",\"Software using the MIT license\",\"Statistical programming languages\",\"Text-oriented programming languages\",\"Programming languages supporting units of measure\"],\"wgPageContentLanguage\":\"en\",\"wgPageContentModel\":\"wikitext\",\"wgRelevantPageName\":\"Julia_(programming_language)\",\"wgRelevantArticleId\":38455554,\"wgIsProbablyEditable\":true,\"wgRelevantPageIsProbablyEditable\":true,\"wgRestrictionEdit\":[],\"wgRestrictionMove\":[],\"wgFlaggedRevsParams\":{\"tags\":{\"status\":{\"levels\":-1}}},\"wgPopupsFlags\":10,\"wgVisualEditor\":{\"pageLanguageCode\":\"en\",\"pageLanguageDir\":\"ltr\",\"pageVariantFallbacks\":\"en\"},\n",
       "\"wgMFDisplayWikibaseDescriptions\":{\"search\":true,\"nearby\":true,\"watchlist\":true,\"tagline\":false},\"wgWMESchemaEditAttemptStepOversample\":false,\"wgWMEPageLength\":80000,\"wgNoticeProject\":\"wikipedia\",\"wgMediaViewerOnClick\":true,\"wgMediaViewerEnabledByDefault\":true,\"wgULSCurrentAutonym\":\"English\",\"wgEditSubmitButtonLabelPublish\":true,\"wgCentralAuthMobileDomain\":false,\"wgULSPosition\":\"interlanguage\",\"wgULSisCompactLinksEnabled\":true,\"wgWikibaseItemId\":\"Q2613697\",\"wgGENewcomerTasksGuidanceEnabled\":true,\"wgGEAskQuestionEnabled\":false,\"wgGELinkRecommendationsFrontendEnabled\":false};RLSTATE={\"ext.globalCssJs.user.styles\":\"ready\",\"site.styles\":\"ready\",\"user.styles\":\"ready\",\"ext.globalCssJs.user\":\"ready\",\"user\":\"ready\",\"user.options\":\"loading\",\"ext.cite.styles\":\"ready\",\"ext.pygments\":\"ready\",\"skins.vector.styles.legacy\":\"ready\",\"jquery.makeCollapsible.styles\":\"ready\",\"ext.visualEditor.desktopArticleTarget.noscript\":\"ready\",\"ext.wikimediaBadges\":\"ready\",\"ext.uls.interlanguage\":\"ready\",\n",
       "\"wikibase.client.init\":\"ready\"};RLPAGEMODULES=[\"ext.cite.ux-enhancements\",\"site\",\"mediawiki.page.ready\",\"jquery.makeCollapsible\",\"mediawiki.toc\",\"skins.vector.legacy.js\",\"ext.gadget.ReferenceTooltips\",\"ext.gadget.charinsert\",\"ext.gadget.extra-toolbar-buttons\",\"ext.gadget.refToolbar\",\"ext.gadget.switcher\",\"mmv.head\",\"mmv.bootstrap.autostart\",\"ext.popups\",\"ext.visualEditor.desktopArticleTarget.init\",\"ext.visualEditor.targetLoader\",\"ext.eventLogging\",\"ext.wikimediaEvents\",\"ext.navigationTiming\",\"ext.cx.eventlogging.campaigns\",\"ext.centralNotice.geoIP\",\"ext.centralNotice.startUp\",\"ext.centralauth.centralautologin\",\"ext.uls.compactlinks\",\"ext.uls.interface\",\"ext.growthExperiments.SuggestedEditSession\"];    </script>\n",
       "    <script>(RLQ=window.RLQ||[]).push(function(){mw.loader.implement(\"user.options@1hzgi\",function($,jQuery,require,module){mw.user.tokens.set({\"patrolToken\":\"+\\\\\",\"watchToken\":\"+\\\\\",\"csrfToken\":\"+\\\\\"});});});    </script>\n",
       "    <link href=\"/w/load.php?lang=en&amp;modules=ext.cite.styles%7Cext.pygments%2CwikimediaBadges%7Cext.uls.interlanguage%7Cext.visualEditor.desktopArticleTarget.noscript%7Cjquery.makeCollapsible.styles%7Cskins.vector.styles.legacy%7Cwikibase.client.init&amp;only=styles&amp;skin=vector\" rel=\"stylesheet\"/>\n",
       "    <script async=\"\" src=\"/w/load.php?lang=en&amp;modules=startup&amp;only=scripts&amp;raw=1&amp;skin=vector\"></script>\n",
       "    <meta content=\"\" name=\"ResourceLoaderDynamicStyles\"/>\n",
       "    <link href=\"/w/load.php?lang=en&amp;modules=site.styles&amp;only=styles&amp;skin=vector\" rel=\"stylesheet\"/>\n",
       "    <meta content=\"MediaWiki 1.38.0-wmf.12\" name=\"generator\"/>\n",
       "    <meta content=\"origin\" name=\"referrer\"/>\n",
       "    <meta content=\"origin-when-crossorigin\" name=\"referrer\"/>\n",
       "    <meta content=\"origin-when-cross-origin\" name=\"referrer\"/>\n",
       "...\n"
      ]
     },
     "metadata": {},
     "output_type": "display_data"
    }
   ],
   "source": [
    "dom = parsehtml(resp_body)"
   ]
  },
  {
   "cell_type": "markdown",
   "metadata": {},
   "source": [
    "The dom variable now references a Gumbo.HTMLDocument, an in-memory Julia representation of the web page. It's a simple object that has only two fields:"
   ]
  },
  {
   "cell_type": "code",
   "execution_count": 37,
   "metadata": {},
   "outputs": [
    {
     "data": {
      "text/plain": [
       "(:doctype, :root)"
      ]
     },
     "metadata": {},
     "output_type": "display_data"
    }
   ],
   "source": [
    "fieldnames(typeof(dom)) "
   ]
  },
  {
   "cell_type": "markdown",
   "metadata": {},
   "source": [
    "The doctype represents the HTML <!DOCTYPE html> element, which is what the Wikipedia page uses:"
   ]
  },
  {
   "cell_type": "code",
   "execution_count": 39,
   "metadata": {},
   "outputs": [
    {
     "data": {
      "text/plain": [
       "\"html\""
      ]
     },
     "metadata": {},
     "output_type": "display_data"
    }
   ],
   "source": [
    "dom.doctype "
   ]
  },
  {
   "cell_type": "markdown",
   "metadata": {},
   "source": [
    "Now, let's focus on the root property. This is effectively the outermost element of the HTML page—the <html> tag containing the rest of the elements. It provides us with an entry point into the DOM. We can ask Gumbo about its attributes:"
   ]
  },
  {
   "cell_type": "code",
   "execution_count": 40,
   "metadata": {},
   "outputs": [
    {
     "data": {
      "text/plain": [
       "Dict{AbstractString, AbstractString} with 3 entries:\n",
       "  \"class\" => \"client-nojs\"\n",
       "  \"lang\"  => \"en\"\n",
       "  \"dir\"   => \"ltr\""
      ]
     },
     "metadata": {},
     "output_type": "display_data"
    }
   ],
   "source": [
    "dom.root.attributes "
   ]
  },
  {
   "cell_type": "markdown",
   "metadata": {},
   "source": [
    "When in doubt, we can just ask about the name of an element using the tag method:"
   ]
  },
  {
   "cell_type": "code",
   "execution_count": 41,
   "metadata": {},
   "outputs": [
    {
     "data": {
      "text/plain": [
       ":HTML"
      ]
     },
     "metadata": {},
     "output_type": "display_data"
    }
   ],
   "source": [
    "tag(dom.root) "
   ]
  },
  {
   "cell_type": "markdown",
   "metadata": {},
   "source": [
    "Gumbo exposes a children method which returns an array containing all the nested HTMLElement. If you just go ahead and execute julia> children(dom.root), the REPL output will be hard to follow. The REPL representation of an HTMLElement is its HTML code, which, for top-level elements with many children, will fill up many Terminal screens. Let's use a for loop to iterate over the children and show just their tags:"
   ]
  },
  {
   "cell_type": "code",
   "execution_count": 42,
   "metadata": {},
   "outputs": [
    {
     "name": "stdout",
     "output_type": "stream",
     "text": [
      "tag(c) = :head\n",
      "tag(c) = :body\n"
     ]
    }
   ],
   "source": [
    "for c in children(dom.root) \n",
    "    @show tag(c) \n",
    "end "
   ]
  },
  {
   "cell_type": "markdown",
   "metadata": {},
   "source": [
    "Much better!\n",
    "\n",
    "Since the children are part of a collection, we can index into them:"
   ]
  },
  {
   "cell_type": "code",
   "execution_count": 43,
   "metadata": {},
   "outputs": [
    {
     "data": {
      "text/plain": [
       "HTMLElement{:body}:<body class=\"mediawiki ltr sitedir-ltr mw-hide-empty-elt ns-0 ns-subject mw-editable page-Julia_programming_language rootpage-Julia_programming_language skin-vector action-view skin-vector-legacy\">\n",
       "  <div class=\"noprint\" id=\"mw-page-base\"></div>\n",
       "  <div class=\"noprint\" id=\"mw-head-base\"></div>\n",
       "  <div class=\"mw-body\" id=\"content\" role=\"main\">\n",
       "    <a id=\"top\"></a>\n",
       "    <div id=\"siteNotice\"></div>\n",
       "    <div class=\"mw-indicators\"></div>\n",
       "    <h1 class=\"firstHeading\" id=\"firstHeading\">\n",
       "      Julia (programming language)\n",
       "    </h1>\n",
       "    <div class=\"vector-body\" id=\"bodyContent\">\n",
       "      <div class=\"noprint\" id=\"siteSub\">\n",
       "        From Wikipedia, the free encyclopedia\n",
       "      </div>\n",
       "      <div id=\"contentSub\"></div>\n",
       "      <div id=\"contentSub2\"></div>\n",
       "      <div id=\"jump-to-nav\"></div>\n",
       "      <a class=\"mw-jump-link\" href=\"#mw-head\">\n",
       "        Jump to navigation\n",
       "      </a>\n",
       "...\n"
      ]
     },
     "metadata": {},
     "output_type": "display_data"
    }
   ],
   "source": [
    "body = children(dom.root)[2]"
   ]
  },
  {
   "cell_type": "markdown",
   "metadata": {},
   "source": [
    "The body variable will now reference an instance of HTMLElement{:body}:"
   ]
  },
  {
   "cell_type": "markdown",
   "metadata": {},
   "source": [
    "The last method that we'll need is getattr, which returns the value of an attribute name. If the attribute is not defined for the element, it raises a KeyError:"
   ]
  },
  {
   "cell_type": "code",
   "execution_count": 45,
   "metadata": {},
   "outputs": [
    {
     "data": {
      "text/plain": [
       "\"client-nojs\""
      ]
     },
     "metadata": {},
     "output_type": "display_data"
    }
   ],
   "source": [
    "getattr(dom.root, \"class\") "
   ]
  },
  {
   "cell_type": "markdown",
   "metadata": {},
   "source": [
    "# Coding defensively\n",
    "An error like the previous one, when part of a larger script, has the potential to completely alter a program's execution, leading to undesired and potentially costly results. In general, when something unexpected occurs during the execution of a program, it may leave the software in an erroneous state, making it impossible to return a correct value. In such cases, rather than pushing on and potentially propagating the problem throughout the whole execution stack, it's preferable to explicitly notify the calling code about the situation by throwing an Exception.\n",
    "\n",
    "Many functions, both in Julia's core and within third-party packages, make good use of the error-throwing mechanism. It's good practice to check the docs for the functions you use and to see what kinds of errors they throw. An error is called an exception in programming lingo.\n",
    "\n",
    "As in the case of getattr, the author of the Gumbo package warned us that attempting to read an attribute that was not defined would result in a KeyError exception. We'll learn soon how to handle exceptions by capturing them in our code, getting info about the problem, and stopping or allowing the exception to propagate further up the call stack. Sometimes it's the best approach, but it's not a technique we want to abuse since handling errors this way can be resource-intensive. Dealing with exceptions is considerably slower than performing simple data integrity checks and branching.\n",
    "\n",
    "For our project, the first line of defense is to simply check if the attribute is in fact defined in the element. We can do this by retrieving the keys of the attributes Dict and checking if the one we want is part of the collection. It's a one-liner:"
   ]
  },
  {
   "cell_type": "code",
   "execution_count": 46,
   "metadata": {},
   "outputs": [
    {
     "data": {
      "text/plain": [
       "false"
      ]
     },
     "metadata": {},
     "output_type": "display_data"
    }
   ],
   "source": [
    "in(\"href\", collect(keys(attrs(dom.root)))) "
   ]
  },
  {
   "cell_type": "markdown",
   "metadata": {},
   "source": [
    "Clearly, href is not an attribute of the <html> tag.\n",
    "\n",
    "Using this approach, we can easily write logic to check for the existence of an attribute before we attempt to look up its value."
   ]
  },
  {
   "cell_type": "markdown",
   "metadata": {},
   "source": [
    "# The pipe operator\n",
    "Reading multiple nested functions can be taxing on the brain. The previous example, collect(keys(attrs(dom.root))), can be rewritten to improve readability using Julia's pipe operator, |>.\n",
    "\n",
    "For example, the following snippet nests three function calls, each inner function becoming the argument of the outermost one:"
   ]
  },
  {
   "cell_type": "code",
   "execution_count": 47,
   "metadata": {},
   "outputs": [
    {
     "data": {
      "text/plain": [
       "3-element Vector{AbstractString}:\n",
       " \"class\"\n",
       " \"lang\"\n",
       " \"dir\""
      ]
     },
     "metadata": {},
     "output_type": "display_data"
    }
   ],
   "source": [
    "collect(keys(attrs(dom.root))) "
   ]
  },
  {
   "cell_type": "markdown",
   "metadata": {},
   "source": [
    "This can be rewritten for improved readability as a chain of functions using the pipe operator. This code produces the exact same result:"
   ]
  },
  {
   "cell_type": "code",
   "execution_count": 48,
   "metadata": {},
   "outputs": [
    {
     "data": {
      "text/plain": [
       "3-element Vector{AbstractString}:\n",
       " \"class\"\n",
       " \"lang\"\n",
       " \"dir\""
      ]
     },
     "metadata": {},
     "output_type": "display_data"
    }
   ],
   "source": [
    "dom.root |> attrs |> keys |> collect "
   ]
  },
  {
   "cell_type": "markdown",
   "metadata": {},
   "source": [
    "What the |> operator does is that it takes the output of the first value and pipes it as the argument of the next function. So dom.root |> attrs is identical to attrs(dom.root). Unfortunately, the pipe operator works only for one-argument functions. But it's still very useful for decluttering code, massively improving readability."
   ]
  },
  {
   "cell_type": "markdown",
   "metadata": {},
   "source": [
    "# Handling errors like a pro\n",
    "Sometimes, coding defensively won't be the solution. Maybe a key part of your program requires reading a file on the network or accessing a database. If the resource can't be accessed due to a temporary network failure, there's really not much you can do in the absence of the data"
   ]
  },
  {
   "cell_type": "markdown",
   "metadata": {},
   "source": [
    "If you identify parts of your code where you think the execution can go off the rails due to conditions that are out of your control (that is, exceptional conditions—hence the name exception), you can use Julia's try...catch statements. This is exactly what it sounds like—you instruct the compiler to try a piece of code and if, as a result of a problem, an exception is thrown, to catch it. The fact that an exception is caught implies that it won't propagate throughout the whole application.\n",
    "\n",
    "Let's see it in action\n",
    "\n"
   ]
  },
  {
   "cell_type": "code",
   "execution_count": 50,
   "metadata": {},
   "outputs": [
    {
     "name": "stdout",
     "output_type": "stream",
     "text": [
      "The HTML tag doesn't have a 'href' attribute.\n"
     ]
    }
   ],
   "source": [
    "try \n",
    "    getattr(dom.root, \"href\") \n",
    "catch \n",
    "    println(\"The $(tag(dom.root)) tag doesn't have a 'href' attribute.\") \n",
    "end "
   ]
  },
  {
   "cell_type": "markdown",
   "metadata": {},
   "source": [
    "In this example, once an error is encountered, the execution of the code in the try branch is stopped exactly at that point, and the execution flow continues right away, in the catch branch."
   ]
  },
  {
   "cell_type": "markdown",
   "metadata": {},
   "source": [
    "# The finally clause\n",
    "In code that performs state changes or uses resources such as files or databases, there is typically some clean-up work (such as closing files or database connections) that needs to be done when the code is finished. This code would normally go into the try branch—but what happens if an exception is thrown?\n",
    "\n",
    "In such cases, the finally clause comes into play. This can be added after a try or after a catch branch. The code within the finally block is guaranteed to be executed, regardless of whether exceptions are thrown or not:"
   ]
  },
  {
   "cell_type": "code",
   "execution_count": 52,
   "metadata": {},
   "outputs": [
    {
     "name": "stdout",
     "output_type": "stream",
     "text": [
      "The HTML tag doesn't have a 'href' attribute.\n",
      "I always get called\n"
     ]
    }
   ],
   "source": [
    "try \n",
    "    getattr(dom.root, \"href\") \n",
    "catch ex \n",
    "    println(\"The $(tag(dom.root)) tag doesn't have a '$(ex.key)' attribute.\") \n",
    "finally \n",
    "    println(\"I always get called\") \n",
    "end "
   ]
  },
  {
   "cell_type": "code",
   "execution_count": 1,
   "metadata": {},
   "outputs": [
    {
     "ename": "ArgumentError",
     "evalue": "ArgumentError: Package webcrawler not found in current path:\n- Run `import Pkg; Pkg.add(\"webcrawler\")` to install the webcrawler package.\n",
     "output_type": "error",
     "traceback": [
      "ArgumentError: Package webcrawler not found in current path:\n",
      "- Run `import Pkg; Pkg.add(\"webcrawler\")` to install the webcrawler package.\n",
      "\n",
      "\n",
      "Stacktrace:\n",
      "  [1] require(into::Module, mod::Symbol)\n",
      "    @ Base .\\loading.jl:967\n",
      "  [2] eval\n",
      "    @ .\\boot.jl:373 [inlined]\n",
      "  [3] include_string(mapexpr::typeof(REPL.softscope), mod::Module, code::String, filename::String)\n",
      "    @ Base .\\loading.jl:1196\n",
      "  [4] #invokelatest#2\n",
      "    @ .\\essentials.jl:716 [inlined]\n",
      "  [5] invokelatest\n",
      "    @ .\\essentials.jl:714 [inlined]\n",
      "  [6] (::VSCodeServer.var\"#150#151\"{VSCodeServer.NotebookRunCellArguments, String})()\n",
      "    @ VSCodeServer c:\\Users\\gilju\\.vscode\\extensions\\julialang.language-julia-1.5.6\\scripts\\packages\\VSCodeServer\\src\\serve_notebook.jl:18\n",
      "  [7] withpath(f::VSCodeServer.var\"#150#151\"{VSCodeServer.NotebookRunCellArguments, String}, path::String)\n",
      "    @ VSCodeServer c:\\Users\\gilju\\.vscode\\extensions\\julialang.language-julia-1.5.6\\scripts\\packages\\VSCodeServer\\src\\repl.jl:185\n",
      "  [8] notebook_runcell_request(conn::VSCodeServer.JSONRPC.JSONRPCEndpoint{Base.PipeEndpoint, Base.PipeEndpoint}, params::VSCodeServer.NotebookRunCellArguments)\n",
      "    @ VSCodeServer c:\\Users\\gilju\\.vscode\\extensions\\julialang.language-julia-1.5.6\\scripts\\packages\\VSCodeServer\\src\\serve_notebook.jl:14\n",
      "  [9] dispatch_msg(x::VSCodeServer.JSONRPC.JSONRPCEndpoint{Base.PipeEndpoint, Base.PipeEndpoint}, dispatcher::VSCodeServer.JSONRPC.MsgDispatcher, msg::Dict{String, Any})\n",
      "    @ VSCodeServer.JSONRPC c:\\Users\\gilju\\.vscode\\extensions\\julialang.language-julia-1.5.6\\scripts\\packages\\JSONRPC\\src\\typed.jl:67\n",
      " [10] serve_notebook(pipename::String; crashreporting_pipename::String)\n",
      "    @ VSCodeServer c:\\Users\\gilju\\.vscode\\extensions\\julialang.language-julia-1.5.6\\scripts\\packages\\VSCodeServer\\src\\serve_notebook.jl:94\n",
      " [11] top-level scope\n",
      "    @ c:\\Users\\gilju\\.vscode\\extensions\\julialang.language-julia-1.5.6\\scripts\\notebook\\notebook.jl:12\n",
      " [12] include(mod::Module, _path::String)\n",
      "    @ Base .\\Base.jl:418\n",
      " [13] exec_options(opts::Base.JLOptions)\n",
      "    @ Base .\\client.jl:292\n",
      " [14] _start()\n",
      "    @ Base .\\client.jl:495"
     ]
    }
   ],
   "source": []
  },
  {
   "cell_type": "code",
   "execution_count": null,
   "metadata": {},
   "outputs": [],
   "source": []
  }
 ],
 "metadata": {
  "kernelspec": {
   "display_name": "Julia 1.7.0",
   "language": "julia",
   "name": "julia-1.7"
  },
  "language_info": {
   "file_extension": ".jl",
   "mimetype": "application/julia",
   "name": "julia",
   "version": "1.7.0"
  },
  "orig_nbformat": 4
 },
 "nbformat": 4,
 "nbformat_minor": 2
}
